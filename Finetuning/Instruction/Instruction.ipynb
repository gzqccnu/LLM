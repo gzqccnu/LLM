{
 "cells": [
  {
   "cell_type": "markdown",
   "id": "ba8b0dc0",
   "metadata": {},
   "source": [
    "# Instruction\n",
    "\n",
    "---"
   ]
  }
 ],
 "metadata": {
  "language_info": {
   "name": "python"
  }
 },
 "nbformat": 4,
 "nbformat_minor": 5
}
