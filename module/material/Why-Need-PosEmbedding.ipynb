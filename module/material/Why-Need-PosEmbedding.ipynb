{
 "cells": [
  {
   "cell_type": "markdown",
   "id": "f2cfd08f",
   "metadata": {},
   "source": [
    "# Why need pos embedding?\n",
    "\n",
    "---"
   ]
  }
 ],
 "metadata": {
  "language_info": {
   "name": "python"
  }
 },
 "nbformat": 4,
 "nbformat_minor": 5
}
