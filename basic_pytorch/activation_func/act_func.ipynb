{
 "cells": [
  {
   "cell_type": "markdown",
   "id": "deb89e0d",
   "metadata": {},
   "source": [
    "# Activation function\n",
    "---\n",
    "\n",
    "In this chapter, we will introduce **Activation function** in Deep Learning. We first will give it math formula then we implement it in code and plot its figure."
   ]
  },
  {
   "cell_type": "markdown",
   "id": "851612ea",
   "metadata": {},
   "source": [
    "---\n",
    "## 1 ReLU"
   ]
  },
  {
   "cell_type": "markdown",
   "id": "e69d764b",
   "metadata": {},
   "source": [
    "---\n",
    "## 2 Sigmoid"
   ]
  },
  {
   "cell_type": "markdown",
   "id": "05c067e3",
   "metadata": {},
   "source": [
    "---\n",
    "## 3 SiLU"
   ]
  },
  {
   "cell_type": "markdown",
   "id": "73069e8e",
   "metadata": {},
   "source": [
    "---\n",
    "## 4 Tanh"
   ]
  }
 ],
 "metadata": {
  "kernelspec": {
   "display_name": "base",
   "language": "python",
   "name": "python3"
  },
  "language_info": {
   "name": "python",
   "version": "3.11.7"
  }
 },
 "nbformat": 4,
 "nbformat_minor": 5
}
