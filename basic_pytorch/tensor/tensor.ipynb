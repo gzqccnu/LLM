{
 "cells": [
  {
   "cell_type": "markdown",
   "id": "0c993b53",
   "metadata": {},
   "source": [
    "# Tensor"
   ]
  },
  {
   "cell_type": "code",
   "execution_count": 1,
   "id": "3aecca8e",
   "metadata": {},
   "outputs": [
    {
     "name": "stdout",
     "output_type": "stream",
     "text": [
      "torch version: 2.6.0+cu124\n",
      "numpy version: 1.26.4\n"
     ]
    }
   ],
   "source": [
    "from importlib.metadata import version\n",
    "\n",
    "pkgs = [\n",
    "    \"torch\",\n",
    "    \"numpy\"\n",
    "]\n",
    "\n",
    "for p in pkgs:\n",
    "    print(f\"{p} version: {version(p)}\")"
   ]
  },
  {
   "cell_type": "code",
   "execution_count": 2,
   "id": "00f50123",
   "metadata": {},
   "outputs": [],
   "source": [
    "import torch"
   ]
  },
  {
   "cell_type": "markdown",
   "id": "34c0f4c0",
   "metadata": {},
   "source": [
    "## 1 Create a tensor"
   ]
  },
  {
   "cell_type": "markdown",
   "id": "27bf2163",
   "metadata": {},
   "source": [
    "### 1.1 Create a tensor by PyTorch"
   ]
  },
  {
   "cell_type": "markdown",
   "id": "aa69054e",
   "metadata": {},
   "source": [
    "#### 1.1.1 create a tensor by a constant"
   ]
  },
  {
   "cell_type": "code",
   "execution_count": 3,
   "id": "3467de40",
   "metadata": {},
   "outputs": [
    {
     "name": "stdout",
     "output_type": "stream",
     "text": [
      "tensor(1)\n"
     ]
    }
   ],
   "source": [
    "constant = torch.tensor(1)\n",
    "\n",
    "print(constant)"
   ]
  },
  {
   "cell_type": "markdown",
   "id": "dcec9602",
   "metadata": {},
   "source": [
    "#### 1.1.2 create a tensor by list"
   ]
  },
  {
   "cell_type": "code",
   "execution_count": 4,
   "id": "5c9e2c62",
   "metadata": {},
   "outputs": [
    {
     "name": "stdout",
     "output_type": "stream",
     "text": [
      "tensor([[1, 2, 3]])\n"
     ]
    }
   ],
   "source": [
    "x = torch.tensor([[1, 2, 3]])\n",
    "\n",
    "print(x)"
   ]
  },
  {
   "cell_type": "code",
   "execution_count": 5,
   "id": "17ee6991",
   "metadata": {},
   "outputs": [
    {
     "name": "stdout",
     "output_type": "stream",
     "text": [
      "tensor([1])\n"
     ]
    }
   ],
   "source": [
    "y = torch.tensor([1])\n",
    "\n",
    "print(y)"
   ]
  },
  {
   "cell_type": "code",
   "execution_count": 6,
   "id": "b23cc24f",
   "metadata": {},
   "outputs": [
    {
     "name": "stdout",
     "output_type": "stream",
     "text": [
      "tensor([1, 2, 3])\n"
     ]
    }
   ],
   "source": [
    "z = torch.tensor([1, 2, 3])\n",
    "\n",
    "print(z)"
   ]
  },
  {
   "cell_type": "markdown",
   "id": "520dbd96",
   "metadata": {},
   "source": [
    "#### 1.1.3 using torch.ones to create all one tensor"
   ]
  },
  {
   "cell_type": "code",
   "execution_count": 7,
   "id": "7542bd2d",
   "metadata": {},
   "outputs": [
    {
     "name": "stdout",
     "output_type": "stream",
     "text": [
      "tensor([[1., 1.]])\n"
     ]
    }
   ],
   "source": [
    "one = torch.ones((1, 2))\n",
    "\n",
    "print(one)"
   ]
  },
  {
   "cell_type": "markdown",
   "id": "4277f7e4",
   "metadata": {},
   "source": [
    "#### 1.1.4 using torch.zeros to create all zero tensor"
   ]
  },
  {
   "cell_type": "code",
   "execution_count": 8,
   "id": "7a01896c",
   "metadata": {},
   "outputs": [
    {
     "name": "stdout",
     "output_type": "stream",
     "text": [
      "tensor([[[0., 0., 0., 0.],\n",
      "         [0., 0., 0., 0.],\n",
      "         [0., 0., 0., 0.]],\n",
      "\n",
      "        [[0., 0., 0., 0.],\n",
      "         [0., 0., 0., 0.],\n",
      "         [0., 0., 0., 0.]]])\n"
     ]
    }
   ],
   "source": [
    "zero = torch.zeros((2, 3, 4))\n",
    "\n",
    "print(zero)"
   ]
  },
  {
   "cell_type": "markdown",
   "id": "2666764a",
   "metadata": {},
   "source": [
    "#### 1.1.5 using torch.empty create empty tensor"
   ]
  },
  {
   "cell_type": "markdown",
   "id": "c39d9889",
   "metadata": {},
   "source": [
    "It actually use present the memory's value as the value of a tensor"
   ]
  },
  {
   "cell_type": "code",
   "execution_count": 9,
   "id": "5f96e56d",
   "metadata": {},
   "outputs": [
    {
     "name": "stdout",
     "output_type": "stream",
     "text": [
      "tensor([[2.9334e-11, 1.5554e-42, 0.0000e+00],\n",
      "        [0.0000e+00, 0.0000e+00, 0.0000e+00]])\n"
     ]
    }
   ],
   "source": [
    "empty = torch.empty((2, 3))\n",
    "\n",
    "print(empty)"
   ]
  },
  {
   "cell_type": "markdown",
   "id": "158e1b51",
   "metadata": {},
   "source": [
    "#### 1.1.6 using torch.arange to create a sequence tensor"
   ]
  },
  {
   "cell_type": "code",
   "execution_count": 10,
   "id": "4a4cbbe5",
   "metadata": {},
   "outputs": [
    {
     "name": "stdout",
     "output_type": "stream",
     "text": [
      "tensor([ 0,  1,  2,  3,  4,  5,  6,  7,  8,  9, 10, 11])\n"
     ]
    }
   ],
   "source": [
    "range_tensor = torch.arange(12)\n",
    "\n",
    "print(range_tensor)"
   ]
  },
  {
   "cell_type": "markdown",
   "id": "292cd0ce",
   "metadata": {},
   "source": [
    "using `reshape` function to change its shape"
   ]
  },
  {
   "cell_type": "code",
   "execution_count": 11,
   "id": "6154c59d",
   "metadata": {},
   "outputs": [
    {
     "name": "stdout",
     "output_type": "stream",
     "text": [
      "(2, 6) tensor([[ 0,  1,  2,  3,  4,  5],\n",
      "        [ 6,  7,  8,  9, 10, 11]])\n",
      "(3, 4) tensor([[ 0,  1,  2,  3],\n",
      "        [ 4,  5,  6,  7],\n",
      "        [ 8,  9, 10, 11]])\n"
     ]
    }
   ],
   "source": [
    "_2_6 = torch.arange(12).reshape(2, 6)\n",
    "_3_4 = torch.arange(12).reshape(3, 4)\n",
    "\n",
    "print(\"(2, 6)\", _2_6)\n",
    "print(\"(3, 4)\", _3_4)"
   ]
  },
  {
   "cell_type": "code",
   "execution_count": 12,
   "id": "de8220a7",
   "metadata": {},
   "outputs": [
    {
     "name": "stdout",
     "output_type": "stream",
     "text": [
      "error: shape '[2, 4]' is invalid for input of size 12\n"
     ]
    }
   ],
   "source": [
    "try:\n",
    "    err = torch.arange(12).reshape(2, 4)\n",
    "    print(err)\n",
    "except Exception as e:\n",
    "    print(\"error:\", e)"
   ]
  },
  {
   "cell_type": "code",
   "execution_count": 13,
   "id": "f57269ac",
   "metadata": {},
   "outputs": [
    {
     "name": "stdout",
     "output_type": "stream",
     "text": [
      "error: shape '[2, 7]' is invalid for input of size 12\n"
     ]
    }
   ],
   "source": [
    "try:\n",
    "    err = torch.arange(12).reshape(2, 7)\n",
    "    print(err)\n",
    "except Exception as e:\n",
    "    print(\"error:\", e)"
   ]
  },
  {
   "cell_type": "markdown",
   "id": "7aca55d8",
   "metadata": {},
   "source": [
    "#### 1.1.7 create tensor by torch.ones_like"
   ]
  },
  {
   "cell_type": "code",
   "execution_count": 14,
   "id": "011ede24",
   "metadata": {},
   "outputs": [
    {
     "name": "stdout",
     "output_type": "stream",
     "text": [
      "tensor([[1, 1, 1]])\n"
     ]
    }
   ],
   "source": [
    "ones_like = torch.ones_like(x)\n",
    "\n",
    "print(ones_like)"
   ]
  },
  {
   "cell_type": "markdown",
   "id": "220c4c8e",
   "metadata": {},
   "source": [
    "#### 1.1.8 create tensor by torch.rand_like"
   ]
  },
  {
   "cell_type": "code",
   "execution_count": 15,
   "id": "aae7e053",
   "metadata": {},
   "outputs": [
    {
     "name": "stdout",
     "output_type": "stream",
     "text": [
      "tensor([[0.1890, 0.8105, 0.4644]], dtype=torch.float16)\n"
     ]
    }
   ],
   "source": [
    "rand_like = torch.rand_like(x, dtype=torch.float16)\n",
    "\n",
    "print(rand_like)"
   ]
  },
  {
   "cell_type": "markdown",
   "id": "c6266d33",
   "metadata": {},
   "source": [
    "#### 1.1.9 create tensor by torch.rand"
   ]
  },
  {
   "cell_type": "code",
   "execution_count": 16,
   "id": "c0227dd2",
   "metadata": {},
   "outputs": [
    {
     "name": "stdout",
     "output_type": "stream",
     "text": [
      "tensor([[0.9292, 0.0358, 0.6974],\n",
      "        [0.5548, 0.5014, 0.0052]])\n"
     ]
    }
   ],
   "source": [
    "rand = torch.rand((2, 3))\n",
    "\n",
    "print(rand)"
   ]
  },
  {
   "cell_type": "markdown",
   "id": "ef5ea69c",
   "metadata": {},
   "source": [
    "#### 1.1.10 create tensor by torch.randn"
   ]
  },
  {
   "cell_type": "code",
   "execution_count": 17,
   "id": "41862b6e",
   "metadata": {},
   "outputs": [
    {
     "name": "stdout",
     "output_type": "stream",
     "text": [
      "tensor([[-1.0550, -0.2906, -0.5086,  1.3968],\n",
      "        [ 2.2449,  0.9106,  0.7223,  0.3703],\n",
      "        [-0.7633,  0.9351,  1.2773, -0.3690]])\n"
     ]
    }
   ],
   "source": [
    "randn = torch.randn((3, 4))\n",
    "\n",
    "print(randn)"
   ]
  },
  {
   "cell_type": "markdown",
   "id": "3251c6cc",
   "metadata": {},
   "source": [
    "#### 1.1.11 create a tensor by comparison"
   ]
  },
  {
   "cell_type": "code",
   "execution_count": 18,
   "id": "44046401",
   "metadata": {},
   "outputs": [
    {
     "name": "stdout",
     "output_type": "stream",
     "text": [
      "x:\n",
      " tensor([[1, 2, 3]])\n",
      "bool_tensor_1:\n",
      " tensor([[True, True, True]])\n",
      "cmp_tensor:\n",
      " tensor([[1, 4, 6]])\n",
      "bool_tensor_2:\n",
      " tensor([[ True, False, False]])\n"
     ]
    }
   ],
   "source": [
    "cmp_tensor = torch.tensor([[1, 4, 6]])\n",
    "bool_tensor_1 = x == x\n",
    "bool_tensor_2 = x == cmp_tensor\n",
    "print(\"x:\\n\", x)\n",
    "print(\"bool_tensor_1:\\n\", bool_tensor_1)\n",
    "print(\"cmp_tensor:\\n\", cmp_tensor)\n",
    "print(\"bool_tensor_2:\\n\", bool_tensor_2)"
   ]
  },
  {
   "cell_type": "markdown",
   "id": "3577db59",
   "metadata": {},
   "source": [
    "### 1.2 Create a tensor(ndarray) by NumPy"
   ]
  },
  {
   "cell_type": "code",
   "execution_count": 19,
   "id": "911e8fa4",
   "metadata": {},
   "outputs": [],
   "source": [
    "import numpy as np"
   ]
  },
  {
   "cell_type": "code",
   "execution_count": 20,
   "id": "12916f32",
   "metadata": {},
   "outputs": [
    {
     "name": "stdout",
     "output_type": "stream",
     "text": [
      "[1 2 3]\n"
     ]
    }
   ],
   "source": [
    "nx = np.array([1, 2, 3])\n",
    "\n",
    "print(nx)"
   ]
  },
  {
   "cell_type": "code",
   "execution_count": 21,
   "id": "891d7498",
   "metadata": {},
   "outputs": [
    {
     "name": "stdout",
     "output_type": "stream",
     "text": [
      "[[1 2 3]\n",
      " [4 5 6]]\n"
     ]
    }
   ],
   "source": [
    "ny = np.array([[1, 2, 3], [4, 5, 6]])\n",
    "\n",
    "print(ny)"
   ]
  },
  {
   "cell_type": "code",
   "execution_count": 22,
   "id": "cc531bc1",
   "metadata": {},
   "outputs": [
    {
     "name": "stdout",
     "output_type": "stream",
     "text": [
      "[1 2 3]\n"
     ]
    }
   ],
   "source": [
    "nz = np.array((1, 2, 3))\n",
    "\n",
    "print(nz)"
   ]
  },
  {
   "cell_type": "code",
   "execution_count": 23,
   "id": "8f201b75",
   "metadata": {},
   "outputs": [
    {
     "name": "stdout",
     "output_type": "stream",
     "text": [
      "[[[1. 1. 1.]\n",
      "  [1. 1. 1.]]\n",
      "\n",
      " [[1. 1. 1.]\n",
      "  [1. 1. 1.]]]\n"
     ]
    }
   ],
   "source": [
    "nones = np.ones((2, 2, 3))\n",
    "\n",
    "print(nones)"
   ]
  },
  {
   "cell_type": "code",
   "execution_count": 24,
   "id": "72c086b6",
   "metadata": {},
   "outputs": [
    {
     "name": "stdout",
     "output_type": "stream",
     "text": [
      "[[[0. 0.]\n",
      "  [0. 0.]]\n",
      "\n",
      " [[0. 0.]\n",
      "  [0. 0.]]\n",
      "\n",
      " [[0. 0.]\n",
      "  [0. 0.]]]\n"
     ]
    }
   ],
   "source": [
    "nzeros = np.zeros((3, 2, 2))\n",
    "\n",
    "print(nzeros)"
   ]
  },
  {
   "cell_type": "code",
   "execution_count": 25,
   "id": "0f155f0b",
   "metadata": {},
   "outputs": [
    {
     "name": "stdout",
     "output_type": "stream",
     "text": [
      "[[1.28244557e+131 2.41502121e+198 6.78875992e+199]\n",
      " [7.26612806e+223 3.58338804e+246 2.72657925e-310]]\n"
     ]
    }
   ],
   "source": [
    "nempty = np.empty((2, 3))\n",
    "\n",
    "print(nempty)"
   ]
  },
  {
   "cell_type": "code",
   "execution_count": 26,
   "id": "d99452d8",
   "metadata": {},
   "outputs": [
    {
     "name": "stdout",
     "output_type": "stream",
     "text": [
      "[ 0  1  2  3  4  5  6  7  8  9 10 11]\n"
     ]
    }
   ],
   "source": [
    "narange = np.arange(12)\n",
    "\n",
    "print(narange)"
   ]
  },
  {
   "cell_type": "markdown",
   "id": "74c9d5dd",
   "metadata": {},
   "source": [
    "## 1.3 Convert ndarray to tensor"
   ]
  },
  {
   "cell_type": "code",
   "execution_count": 27,
   "id": "a062b405",
   "metadata": {},
   "outputs": [
    {
     "name": "stdout",
     "output_type": "stream",
     "text": [
      "nrange.type: <class 'numpy.ndarray'>\n",
      "nd2tensor.type: <class 'torch.Tensor'>\n"
     ]
    }
   ],
   "source": [
    "print(\"nrange.type:\", type(narange))\n",
    "\n",
    "nd2tensor = torch.from_numpy(narange)\n",
    "\n",
    "print(\"nd2tensor.type:\", type(nd2tensor))"
   ]
  },
  {
   "cell_type": "markdown",
   "id": "cdfd6e22",
   "metadata": {},
   "source": [
    "### 1.4 create tensor defining its data type and device on"
   ]
  },
  {
   "cell_type": "markdown",
   "id": "405396ff",
   "metadata": {},
   "source": [
    "Here we create a tensor on GPU(cuda)"
   ]
  },
  {
   "cell_type": "code",
   "execution_count": 28,
   "id": "132472a8",
   "metadata": {},
   "outputs": [
    {
     "name": "stdout",
     "output_type": "stream",
     "text": [
      "tensor([1., 2., 3.], device='cuda:0', dtype=torch.float16)\n"
     ]
    }
   ],
   "source": [
    "tensor_cuda = torch.tensor([1, 2, 3], dtype=torch.float16, device=\"cuda\")\n",
    "\n",
    "print(tensor_cuda)"
   ]
  },
  {
   "cell_type": "markdown",
   "id": "cfaa9304",
   "metadata": {},
   "source": [
    "Then, we create a tensor on CPU, it's also the default device"
   ]
  },
  {
   "cell_type": "code",
   "execution_count": 29,
   "id": "a40b2edb",
   "metadata": {},
   "outputs": [
    {
     "name": "stdout",
     "output_type": "stream",
     "text": [
      "tensor_cpu: tensor([4, 5, 6])\n",
      "tensor_cpu.dtype: torch.int64\n",
      "tensor_cpu.device: cpu\n"
     ]
    }
   ],
   "source": [
    "tensor_cpu = torch.tensor([4, 5, 6], dtype=torch.long, device=\"cpu\")\n",
    "\n",
    "print(f\"tensor_cpu: {tensor_cpu}\\n\"\n",
    "      f\"tensor_cpu.dtype: {tensor_cpu.dtype}\\n\"\n",
    "      f\"tensor_cpu.device: {tensor_cpu.device}\")"
   ]
  },
  {
   "cell_type": "markdown",
   "id": "ca071292",
   "metadata": {},
   "source": [
    "## 2 Tensor dimension"
   ]
  },
  {
   "cell_type": "markdown",
   "id": "7e53edc3",
   "metadata": {},
   "source": [
    "### 2.1 0d tensor\n",
    "We can also call it a scaler."
   ]
  },
  {
   "cell_type": "code",
   "execution_count": 30,
   "id": "1f2095c8",
   "metadata": {},
   "outputs": [
    {
     "name": "stdout",
     "output_type": "stream",
     "text": [
      "0d tensor: tensor(3.1400)\n"
     ]
    }
   ],
   "source": [
    "scaler = torch.tensor(3.14)\n",
    "\n",
    "print(\"0d tensor:\", scaler)"
   ]
  },
  {
   "cell_type": "markdown",
   "id": "c28f27e7",
   "metadata": {},
   "source": [
    "### 2.2 1d tensor\n",
    "We can also call it vector."
   ]
  },
  {
   "cell_type": "code",
   "execution_count": 31,
   "id": "306861f4",
   "metadata": {},
   "outputs": [
    {
     "name": "stdout",
     "output_type": "stream",
     "text": [
      "1d tensor tensor([1, 2, 3])\n"
     ]
    }
   ],
   "source": [
    "vec = torch.tensor([1, 2, 3])\n",
    "\n",
    "print(\"1d tensor\", vec)"
   ]
  },
  {
   "cell_type": "markdown",
   "id": "b0987f83",
   "metadata": {},
   "source": [
    "### 2.3 2d tensor\n",
    "We can also call it matrix"
   ]
  },
  {
   "cell_type": "code",
   "execution_count": 32,
   "id": "904a31ea",
   "metadata": {},
   "outputs": [
    {
     "name": "stdout",
     "output_type": "stream",
     "text": [
      "2d tensor: tensor([[1, 2, 3],\n",
      "        [4, 5, 6]])\n"
     ]
    }
   ],
   "source": [
    "matrix = torch.tensor([[1, 2, 3],\n",
    "                       [4, 5, 6]])\n",
    "\n",
    "print(\"2d tensor:\", matrix)"
   ]
  },
  {
   "cell_type": "markdown",
   "id": "8888ffd1",
   "metadata": {},
   "source": [
    "### 2.4 nd tensor"
   ]
  },
  {
   "cell_type": "markdown",
   "id": "06dafac3",
   "metadata": {},
   "source": [
    "Actually the dimension of a tensor is to look the depth of the brackets.\n",
    "Like the 4d tensor here:\n",
    "$$\n",
    "\\text{4dtensor} = [[[[1, 2, 3, 4]]]]\n",
    "$$\n",
    "It's actually have four depth of brackets.\n",
    "And it can be expanded, but it's also the 4d tensor, for it's depth of brackets not changed.\n",
    "$$\n",
    "\\text{4dtensor} = [[[[1, 2, 3, 4]]], \\\\\n",
    "                  [[[5, 6, 7, 8]]]]\n",
    "$$"
   ]
  },
  {
   "cell_type": "markdown",
   "id": "d8010591",
   "metadata": {},
   "source": [
    "## 3 Tensor operation"
   ]
  },
  {
   "cell_type": "markdown",
   "id": "c8d2e472",
   "metadata": {},
   "source": [
    "### 3.1 arithmetic operations"
   ]
  },
  {
   "cell_type": "code",
   "execution_count": 33,
   "id": "8a19572d",
   "metadata": {},
   "outputs": [
    {
     "name": "stdout",
     "output_type": "stream",
     "text": [
      "x: tensor([[1, 2, 3]])\n",
      "y: tensor([1])\n",
      "x + y: tensor([[2, 3, 4]])\n"
     ]
    }
   ],
   "source": [
    "print(\"x:\", x)\n",
    "print(\"y:\", y)\n",
    "print(\"x + y:\", x + y)"
   ]
  },
  {
   "cell_type": "markdown",
   "id": "cd721773",
   "metadata": {},
   "source": [
    "Here exist the `broadcasting`. When resolve this two different dimension of tensors, PyTorch will expand `y` 1 ==> `y`[[1, 1, 1]] then add x\n",
    "$$\n",
    "y = 1 \\ \\text{then, expand} \\\\\n",
    "y = [[1, 1, 1]] \\\\\n",
    "x + y = \\text{[[1, 2, 3]] + [[1, 1, 1]] = [[2, 3, 4]]}\n",
    "$$"
   ]
  },
  {
   "cell_type": "code",
   "execution_count": 34,
   "id": "7655413e",
   "metadata": {},
   "outputs": [
    {
     "name": "stdout",
     "output_type": "stream",
     "text": [
      "x: tensor([[1, 2, 3]])\n",
      "y: tensor([1])\n",
      "x * y: tensor([[1, 2, 3]])\n"
     ]
    }
   ],
   "source": [
    "print(\"x:\", x)\n",
    "print(\"y:\", y)\n",
    "\n",
    "print(\"x * y:\", x * y)"
   ]
  },
  {
   "cell_type": "markdown",
   "id": "ff0aea3d",
   "metadata": {},
   "source": [
    "Here, also exists the `broadcasting`."
   ]
  },
  {
   "cell_type": "code",
   "execution_count": 35,
   "id": "0b3686c9",
   "metadata": {},
   "outputs": [
    {
     "name": "stdout",
     "output_type": "stream",
     "text": [
      "tensor([[2, 4, 6]])\n"
     ]
    }
   ],
   "source": [
    "print(x * torch.tensor([2]))"
   ]
  },
  {
   "cell_type": "code",
   "execution_count": 36,
   "id": "61d4f40d",
   "metadata": {},
   "outputs": [
    {
     "name": "stdout",
     "output_type": "stream",
     "text": [
      "y: tensor([1])\n",
      "x: tensor([[1, 2, 3]])\n",
      "y / x: tensor([[1.0000, 0.5000, 0.3333]])\n"
     ]
    }
   ],
   "source": [
    "print(\"y:\", y)\n",
    "print(\"x:\", x)\n",
    "print(\"y / x:\", y / x)"
   ]
  },
  {
   "cell_type": "code",
   "execution_count": 37,
   "id": "96e6b103",
   "metadata": {},
   "outputs": [
    {
     "name": "stdout",
     "output_type": "stream",
     "text": [
      "y: tensor([1])\n",
      "x: tensor([[1, 2, 3]])\n",
      "y - x: tensor([[ 0, -1, -2]])\n"
     ]
    }
   ],
   "source": [
    "print(\"y:\", y)\n",
    "print(\"x:\", x)\n",
    "print(\"y - x:\", y - x)"
   ]
  },
  {
   "cell_type": "markdown",
   "id": "161b2600",
   "metadata": {},
   "source": [
    "Attention: all these operations are bitwise.\n",
    "And we can actually take another example."
   ]
  },
  {
   "cell_type": "code",
   "execution_count": 38,
   "id": "424a5723",
   "metadata": {},
   "outputs": [
    {
     "name": "stdout",
     "output_type": "stream",
     "text": [
      "x:\n",
      " tensor([[1, 2, 3]])\n",
      "torch.exp(x):\n",
      " tensor([[ 2.7183,  7.3891, 20.0855]])\n"
     ]
    }
   ],
   "source": [
    "print(\"x:\\n\", x)\n",
    "print(\"torch.exp(x):\\n\", torch.exp(x))"
   ]
  },
  {
   "cell_type": "markdown",
   "id": "d3629007",
   "metadata": {},
   "source": [
    "As we know $e = 2.7183...$. Here actually do this:\n",
    "$$\n",
    "\\text{x} = [[1, 2, 3]] \\\\\n",
    "\\text{torch.exp(x)} = [[e^1, e^2, e^3]]\n",
    "$$\n",
    "It's also the bitwise operation."
   ]
  },
  {
   "cell_type": "markdown",
   "id": "9d786cd8",
   "metadata": {},
   "source": [
    "#### 3.2 tensor multiply"
   ]
  },
  {
   "cell_type": "markdown",
   "id": "13efaecf",
   "metadata": {},
   "source": [
    "#### 3.2.1 vec $\\times$ vec"
   ]
  },
  {
   "cell_type": "code",
   "execution_count": 39,
   "id": "49cb5ab6",
   "metadata": {},
   "outputs": [
    {
     "name": "stdout",
     "output_type": "stream",
     "text": [
      "vec1: tensor([1, 3, 5])\n",
      "vec2: tensor([2, 4, 6])\n",
      "vec1 x vec2: tensor(44)\n"
     ]
    }
   ],
   "source": [
    "vec1 = torch.tensor([1, 3, 5])\n",
    "vec2 = torch.tensor([2, 4, 6])\n",
    "\n",
    "print(\"vec1:\", vec1)\n",
    "print(\"vec2:\", vec2)\n",
    "print(\"vec1 x vec2:\", torch.dot(vec1, vec2))"
   ]
  },
  {
   "cell_type": "markdown",
   "id": "3d207296",
   "metadata": {},
   "source": [
    "It's a little bit differ from tensor $\\times$ tensor. It finally will do a sum.\n",
    "Let's have a look"
   ]
  },
  {
   "cell_type": "code",
   "execution_count": 40,
   "id": "600106b1",
   "metadata": {},
   "outputs": [
    {
     "name": "stdout",
     "output_type": "stream",
     "text": [
      "vec1:\n",
      " tensor([1, 3, 5])\n",
      "vec2:\n",
      " tensor([2, 4, 6])\n",
      "tmp_vec:\n",
      " tensor([ 2, 12, 30])\n",
      "torch.dot(vec1, vec2):\n",
      " tensor(44)\n",
      "tmp_vec.sum():\n",
      " tensor(44)\n"
     ]
    }
   ],
   "source": [
    "tmp_vec = vec1 * vec2\n",
    "print(\"vec1:\\n\", vec1)\n",
    "print(\"vec2:\\n\", vec2)\n",
    "print(\"tmp_vec:\\n\", tmp_vec)\n",
    "print(\"torch.dot(vec1, vec2):\\n\", torch.dot(vec1, vec2))\n",
    "print(\"tmp_vec.sum():\\n\", tmp_vec.sum())"
   ]
  },
  {
   "cell_type": "markdown",
   "id": "f7aec44c",
   "metadata": {},
   "source": [
    "#### 3.2.2 matrix $\\times$ matrix"
   ]
  },
  {
   "cell_type": "code",
   "execution_count": 41,
   "id": "e57c7820",
   "metadata": {},
   "outputs": [
    {
     "name": "stdout",
     "output_type": "stream",
     "text": [
      "matrix1:\n",
      " tensor([[1, 2, 3],\n",
      "        [4, 5, 6]])\n",
      "matrix2:\n",
      " tensor([[0, 2],\n",
      "        [4, 6]])\n",
      "matrix1 x matrix2:\n",
      " tensor([[12, 20],\n",
      "        [28, 52]])\n",
      "matrix1 x matrix2:\n",
      " tensor([[12, 20],\n",
      "        [28, 52]])\n"
     ]
    }
   ],
   "source": [
    "matrix1 = torch.tensor([[1, 3],\n",
    "                        [5, 7]])\n",
    "matrix2 = torch.tensor([[0, 2],\n",
    "                        [4, 6]])\n",
    "print(\"matrix1:\\n\", matrix)\n",
    "print(\"matrix2:\\n\", matrix2)\n",
    "print(\"matrix1 x matrix2:\\n\", torch.matmul(matrix1, matrix2))\n",
    "print(\"matrix1 x matrix2:\\n\", matrix1 @ matrix2)"
   ]
  },
  {
   "cell_type": "markdown",
   "id": "e879faff",
   "metadata": {},
   "source": [
    "So, we will know that `torch.matuml` == `@`"
   ]
  },
  {
   "cell_type": "markdown",
   "id": "df62ddba",
   "metadata": {},
   "source": [
    "### 3.3 tensor cat"
   ]
  },
  {
   "cell_type": "code",
   "execution_count": 42,
   "id": "8839e3a2",
   "metadata": {},
   "outputs": [
    {
     "name": "stdout",
     "output_type": "stream",
     "text": [
      "x: tensor([[1, 2, 3]])\n",
      "y: tensor([1])\n",
      "error: Tensors must have same number of dimensions: got 2 and 1\n"
     ]
    }
   ],
   "source": [
    "print(\"x:\", x)\n",
    "print(\"y:\", y)\n",
    "try:\n",
    "    print(\"torch.cat((x, y)):\", torch.cat((x, y)))\n",
    "except Exception as e:\n",
    "    print(\"error:\", e)"
   ]
  },
  {
   "cell_type": "markdown",
   "id": "20929c3c",
   "metadata": {},
   "source": [
    "Cause here the y = 1 is a constant."
   ]
  },
  {
   "cell_type": "code",
   "execution_count": 43,
   "id": "97442a37",
   "metadata": {},
   "outputs": [
    {
     "name": "stdout",
     "output_type": "stream",
     "text": [
      "x: tensor([[1, 2, 3]])\n",
      "z: tensor([1, 2, 3])\n",
      "error: Tensors must have same number of dimensions: got 2 and 1\n"
     ]
    }
   ],
   "source": [
    "print(\"x:\", x)\n",
    "print(\"z:\", z)\n",
    "try:\n",
    "    print(\"torch.cat((x, z)):\", torch.cat((x, z)))\n",
    "except Exception as e:\n",
    "    print(\"error:\", e)"
   ]
  },
  {
   "cell_type": "markdown",
   "id": "79b5e72a",
   "metadata": {},
   "source": [
    "Attention here. x = [[1, 2, 3]] and z = [1, 2, 3]. x has two brackets rather z has one.\n",
    "And in PyTorch, we could check the dimension of a tensor by using `tensor.shape`"
   ]
  },
  {
   "cell_type": "code",
   "execution_count": 44,
   "id": "cbc78894",
   "metadata": {},
   "outputs": [
    {
     "name": "stdout",
     "output_type": "stream",
     "text": [
      "x.shape: torch.Size([1, 3])\n",
      "z.shape: torch.Size([3])\n"
     ]
    }
   ],
   "source": [
    "print(\"x.shape:\", x.shape)\n",
    "print(\"z.shape:\", z.shape)"
   ]
  },
  {
   "cell_type": "markdown",
   "id": "b10234cb",
   "metadata": {},
   "source": [
    "From above two examples, we know we just can cat the two tensor that has the same dimension and either one can not be a constant."
   ]
  },
  {
   "cell_type": "code",
   "execution_count": 45,
   "id": "05c73720",
   "metadata": {},
   "outputs": [
    {
     "name": "stdout",
     "output_type": "stream",
     "text": [
      "x: tensor([[1, 2, 3]])\n",
      "correct_shape_tensor: tensor([[4, 5, 6]])\n",
      "torch.cat((x, correct_shape_tensor)):\n",
      " tensor([[1, 2, 3],\n",
      "        [4, 5, 6]])\n"
     ]
    }
   ],
   "source": [
    "correct_shape_tensor = torch.tensor([[4, 5, 6]])\n",
    "print(\"x:\", x)\n",
    "print(\"correct_shape_tensor:\", correct_shape_tensor)\n",
    "print(\"torch.cat((x, correct_shape_tensor)):\\n\", torch.cat((x, correct_shape_tensor)))"
   ]
  },
  {
   "cell_type": "markdown",
   "id": "96ac7a67",
   "metadata": {},
   "source": [
    "Let's check for their shape"
   ]
  },
  {
   "cell_type": "code",
   "execution_count": 46,
   "id": "23590525",
   "metadata": {},
   "outputs": [
    {
     "name": "stdout",
     "output_type": "stream",
     "text": [
      "x.shape: torch.Size([1, 3])\n",
      "correct_shape_tensor: torch.Size([1, 3])\n"
     ]
    }
   ],
   "source": [
    "print(\"x.shape:\", x.shape)\n",
    "print(\"correct_shape_tensor:\", correct_shape_tensor.shape)"
   ]
  },
  {
   "cell_type": "markdown",
   "id": "05494159",
   "metadata": {},
   "source": [
    "And let's do another try."
   ]
  },
  {
   "cell_type": "code",
   "execution_count": 47,
   "id": "97f210f4",
   "metadata": {},
   "outputs": [
    {
     "name": "stdout",
     "output_type": "stream",
     "text": [
      "x: tensor([[1, 2, 3]])\n",
      "err_shape_tensor: tensor([[2, 3]])\n",
      "err: Sizes of tensors must match except in dimension 0. Expected size 3 but got size 2 for tensor number 1 in the list.\n"
     ]
    }
   ],
   "source": [
    "err_shape_tensor = torch.tensor([[2, 3]])\n",
    "print(\"x:\", x)\n",
    "print(\"err_shape_tensor:\", err_shape_tensor)\n",
    "try:\n",
    "    print(\"torch.cat((x, err_shape_tensor)):\", torch.cat((x, err_shape_tensor)))\n",
    "except Exception as e:\n",
    "    print(\"err:\", e)"
   ]
  },
  {
   "cell_type": "markdown",
   "id": "a7d49b4c",
   "metadata": {},
   "source": [
    "Here it notes us our dimension 0 is matched, but not for all. Let's have a look of them"
   ]
  },
  {
   "cell_type": "code",
   "execution_count": 48,
   "id": "80fe666b",
   "metadata": {},
   "outputs": [
    {
     "name": "stdout",
     "output_type": "stream",
     "text": [
      "x.shape: torch.Size([1, 3])\n",
      "err_shape_tensor: torch.Size([1, 2])\n"
     ]
    }
   ],
   "source": [
    "print(\"x.shape:\", x.shape)\n",
    "print(\"err_shape_tensor:\", err_shape_tensor.shape)"
   ]
  },
  {
   "cell_type": "markdown",
   "id": "023f4741",
   "metadata": {},
   "source": [
    "So, next time, you cat two tensor, you know what to do. Check their shape by `tensor.shape` and they must to be the same."
   ]
  },
  {
   "cell_type": "markdown",
   "id": "329b1a56",
   "metadata": {},
   "source": [
    "Oh, may you forget what torh.cat do. Let's have a retry."
   ]
  },
  {
   "cell_type": "code",
   "execution_count": 49,
   "id": "80f8b09c",
   "metadata": {},
   "outputs": [
    {
     "name": "stdout",
     "output_type": "stream",
     "text": [
      "simple_x:\n",
      " tensor([1, 2, 3])\n",
      "simple_y:\n",
      " tensor([4, 5, 6])\n",
      "torch.cat((simple_x, simple_y)):\n",
      " tensor([1, 2, 3, 4, 5, 6])\n"
     ]
    }
   ],
   "source": [
    "simple_x = torch.tensor([1, 2, 3])\n",
    "simple_y = torch.tensor([4, 5, 6])\n",
    "\n",
    "print(\"simple_x:\\n\", simple_x)\n",
    "print(\"simple_y:\\n\", simple_y)\n",
    "print(\"torch.cat((simple_x, simple_y)):\\n\", torch.cat((simple_x, simple_y)))"
   ]
  },
  {
   "cell_type": "markdown",
   "id": "f7478589",
   "metadata": {},
   "source": [
    "We could see, it's just concatenate them together on the same dimension. Just like what we do in Python list's append.\n",
    "And let's have a look at a complex one. It's the same actually."
   ]
  },
  {
   "cell_type": "code",
   "execution_count": 50,
   "id": "1a71363b",
   "metadata": {},
   "outputs": [
    {
     "name": "stdout",
     "output_type": "stream",
     "text": [
      "complex_x:\n",
      " tensor([[[ 0,  1,  2,  3],\n",
      "         [ 4,  5,  6,  7],\n",
      "         [ 8,  9, 10, 11]],\n",
      "\n",
      "        [[12, 13, 14, 15],\n",
      "         [16, 17, 18, 19],\n",
      "         [20, 21, 22, 23]]])\n",
      "correct_y:\n",
      " tensor([[[1., 1., 1., 1.],\n",
      "         [1., 1., 1., 1.],\n",
      "         [1., 1., 1., 1.]],\n",
      "\n",
      "        [[1., 1., 1., 1.],\n",
      "         [1., 1., 1., 1.],\n",
      "         [1., 1., 1., 1.]]])\n",
      "torch.cat((complex_x, complex_y)):\n",
      " tensor([[[ 0.,  1.,  2.,  3.],\n",
      "         [ 4.,  5.,  6.,  7.],\n",
      "         [ 8.,  9., 10., 11.]],\n",
      "\n",
      "        [[12., 13., 14., 15.],\n",
      "         [16., 17., 18., 19.],\n",
      "         [20., 21., 22., 23.]],\n",
      "\n",
      "        [[ 1.,  1.,  1.,  1.],\n",
      "         [ 1.,  1.,  1.,  1.],\n",
      "         [ 1.,  1.,  1.,  1.]],\n",
      "\n",
      "        [[ 1.,  1.,  1.,  1.],\n",
      "         [ 1.,  1.,  1.,  1.],\n",
      "         [ 1.,  1.,  1.,  1.]]])\n"
     ]
    }
   ],
   "source": [
    "complex_x = torch.arange(24).reshape(2, 3, 4)\n",
    "complex_y = torch.ones(24).reshape(2, 3, 4)\n",
    "\n",
    "print(\"complex_x:\\n\", complex_x)\n",
    "print(\"correct_y:\\n\", complex_y)\n",
    "print(\"torch.cat((complex_x, complex_y)):\\n\", torch.cat((complex_x, complex_y)))"
   ]
  },
  {
   "cell_type": "markdown",
   "id": "8ccfe0bc",
   "metadata": {},
   "source": [
    "Have a look at their shape."
   ]
  },
  {
   "cell_type": "code",
   "execution_count": 51,
   "id": "827c0a17",
   "metadata": {},
   "outputs": [
    {
     "name": "stdout",
     "output_type": "stream",
     "text": [
      "complex_x.shape:\n",
      " torch.Size([2, 3, 4])\n",
      "correct_y.shape:\n",
      " torch.Size([2, 3, 4])\n",
      "torch.cat((complex_x, complex_y)).shape:\n",
      " torch.Size([4, 3, 4])\n"
     ]
    }
   ],
   "source": [
    "print(\"complex_x.shape:\\n\", complex_x.shape)\n",
    "print(\"correct_y.shape:\\n\", complex_y.shape)\n",
    "print(\"torch.cat((complex_x, complex_y)).shape:\\n\", torch.cat((complex_x, complex_y)).shape)"
   ]
  },
  {
   "cell_type": "markdown",
   "id": "b55eb344",
   "metadata": {},
   "source": [
    "We can see, they have the same dimension like [x, y, z], but the dimension value is a little bit differed.\n",
    "<br>\n",
    "In other words, after `torch.cat`, the brackets depth is not changed.\n",
    "<br>\n",
    "In my understanding, the two tensor are like lines, and you just lengthen them in their length. "
   ]
  },
  {
   "cell_type": "markdown",
   "id": "be8e726e",
   "metadata": {},
   "source": [
    "If you care about the num of brackets, and you will see the last output like [[[x, y]]]."
   ]
  },
  {
   "cell_type": "markdown",
   "id": "c8414750",
   "metadata": {},
   "source": [
    "### 3.4 tensor stack"
   ]
  },
  {
   "cell_type": "markdown",
   "id": "794d6831",
   "metadata": {},
   "source": [
    "This is another operation we usually do in LLM.\n",
    "Let's deep it."
   ]
  },
  {
   "cell_type": "code",
   "execution_count": 52,
   "id": "84e0df3b",
   "metadata": {},
   "outputs": [
    {
     "name": "stdout",
     "output_type": "stream",
     "text": [
      "stack_on:\n",
      " tensor([1, 2, 3])\n",
      "stack_below:\n",
      " tensor([4, 5, 6])\n",
      "torh.cat((stack_on, stack_below)):\n",
      " tensor([[1, 2, 3],\n",
      "        [4, 5, 6]])\n"
     ]
    }
   ],
   "source": [
    "stack_on = torch.tensor([1, 2, 3])\n",
    "stack_below = torch.tensor([4, 5, 6])\n",
    "\n",
    "print(\"stack_on:\\n\", stack_on)\n",
    "print(\"stack_below:\\n\", stack_below)\n",
    "print(\"torh.cat((stack_on, stack_below)):\\n\", torch.stack((stack_on, stack_below)))"
   ]
  },
  {
   "cell_type": "markdown",
   "id": "3b7023db",
   "metadata": {},
   "source": [
    "And we check for their shape."
   ]
  },
  {
   "cell_type": "code",
   "execution_count": 53,
   "id": "77a9c41e",
   "metadata": {},
   "outputs": [
    {
     "name": "stdout",
     "output_type": "stream",
     "text": [
      "stack_on.shape:\n",
      " torch.Size([3])\n",
      "stack_below:\n",
      " torch.Size([3])\n",
      "torch.stack((stack_on, stack_below)):\n",
      " torch.Size([2, 3])\n"
     ]
    }
   ],
   "source": [
    "print(\"stack_on.shape:\\n\", stack_on.shape)\n",
    "print(\"stack_below:\\n\", stack_below.shape)\n",
    "print(\"torch.stack((stack_on, stack_below)):\\n\", torch.stack((stack_on, stack_below)).shape)"
   ]
  },
  {
   "cell_type": "markdown",
   "id": "eceffecb",
   "metadata": {},
   "source": [
    "And you will see, actually, their dimension changed. It's like stack the building blocks.\n",
    "> ⚠\n",
    "the tensors want to be stacked still must have the same dimension"
   ]
  },
  {
   "cell_type": "markdown",
   "id": "b03fa74b",
   "metadata": {},
   "source": [
    "### 3.5 item()"
   ]
  },
  {
   "cell_type": "markdown",
   "id": "fe2ace6d",
   "metadata": {},
   "source": [
    "Especially, when a tensor is a constant or has only one element, we can use item() function to abtain its value, may int or float"
   ]
  },
  {
   "cell_type": "markdown",
   "id": "8024f441",
   "metadata": {},
   "source": [
    "Let's have a look"
   ]
  },
  {
   "cell_type": "markdown",
   "id": "75dc5535",
   "metadata": {},
   "source": [
    "#### 3.5.1 convert constant tensor to value"
   ]
  },
  {
   "cell_type": "code",
   "execution_count": 54,
   "id": "d63b0d52",
   "metadata": {},
   "outputs": [
    {
     "name": "stdout",
     "output_type": "stream",
     "text": [
      "integer: 3\n",
      "integer.type <class 'int'>\n"
     ]
    }
   ],
   "source": [
    "int_constant = torch.tensor(3)\n",
    "\n",
    "integer = int_constant.item()\n",
    "\n",
    "print(f\"integer: {integer}\\n\"\n",
    "      f\"integer.type {type(integer)}\")"
   ]
  },
  {
   "cell_type": "code",
   "execution_count": 55,
   "id": "7a62ec87",
   "metadata": {},
   "outputs": [
    {
     "name": "stdout",
     "output_type": "stream",
     "text": [
      "float: 3.140000104904175\n",
      "float.type: <class 'float'>\n"
     ]
    }
   ],
   "source": [
    "float_constant = torch.tensor(3.14)\n",
    "\n",
    "float = float_constant.item()\n",
    "\n",
    "print(f\"float: {float}\\n\"\n",
    "      f\"float.type: {type(float)}\")"
   ]
  },
  {
   "cell_type": "markdown",
   "id": "3c5aaba5",
   "metadata": {},
   "source": [
    "#### 3.5.2 conver single element tensor to value"
   ]
  },
  {
   "cell_type": "code",
   "execution_count": 56,
   "id": "fea5e060",
   "metadata": {},
   "outputs": [
    {
     "name": "stdout",
     "output_type": "stream",
     "text": [
      "elem: 8.899999618530273\n",
      "elem.type: <class 'float'>\n"
     ]
    }
   ],
   "source": [
    "elem_tensor = torch.tensor([8.9])\n",
    "\n",
    "elem = elem_tensor.item()\n",
    "\n",
    "print(f\"elem: {elem}\\n\"\n",
    "      f\"elem.type: {type(elem)}\")"
   ]
  },
  {
   "cell_type": "code",
   "execution_count": 57,
   "id": "ef19b26e",
   "metadata": {},
   "outputs": [
    {
     "name": "stdout",
     "output_type": "stream",
     "text": [
      "_elem: 5.199999809265137\n",
      "_elem.type: <class 'float'>\n"
     ]
    }
   ],
   "source": [
    "_elem_tensor = torch.tensor([[5.2]])\n",
    "\n",
    "_elem = _elem_tensor.item()\n",
    "\n",
    "print(f\"_elem: {_elem}\\n\"\n",
    "      f\"_elem.type: {type(_elem)}\")"
   ]
  },
  {
   "cell_type": "markdown",
   "id": "43918cc3",
   "metadata": {},
   "source": [
    "Here we note that even it's brackets $depth = 2$, but we can also convert it for it's single element\n",
    "<br>\n",
    "And we can have another try"
   ]
  },
  {
   "cell_type": "code",
   "execution_count": 58,
   "id": "d9fa2783",
   "metadata": {},
   "outputs": [
    {
     "name": "stdout",
     "output_type": "stream",
     "text": [
      "ant_elem: 13.140000343322754\n",
      "ant_elem.type: <class 'float'>\n"
     ]
    }
   ],
   "source": [
    "ant_elem_tensor = torch.tensor([[[[[13.14]]]]])\n",
    "\n",
    "ant_elem = ant_elem_tensor.item()\n",
    "\n",
    "print(f\"ant_elem: {ant_elem}\\n\"\n",
    "      f\"ant_elem.type: {type(ant_elem)}\")"
   ]
  },
  {
   "cell_type": "markdown",
   "id": "45a6fad2",
   "metadata": {},
   "source": [
    "### 3.6 view()"
   ]
  },
  {
   "cell_type": "code",
   "execution_count": 59,
   "id": "979786d9",
   "metadata": {},
   "outputs": [
    {
     "name": "stdout",
     "output_type": "stream",
     "text": [
      "orig: tensor([ 0,  1,  2,  3,  4,  5,  6,  7,  8,  9, 10, 11])\n"
     ]
    }
   ],
   "source": [
    "orig = torch.arange(12)\n",
    "print(\"orig:\", orig)"
   ]
  },
  {
   "cell_type": "markdown",
   "id": "a8ed3e2c",
   "metadata": {},
   "source": [
    "Let's apply `view()` to it."
   ]
  },
  {
   "cell_type": "code",
   "execution_count": 60,
   "id": "85db99fd",
   "metadata": {},
   "outputs": [
    {
     "name": "stdout",
     "output_type": "stream",
     "text": [
      "view: tensor([[ 0,  1,  2,  3],\n",
      "        [ 4,  5,  6,  7],\n",
      "        [ 8,  9, 10, 11]])\n"
     ]
    }
   ],
   "source": [
    "view = orig.view(3, 4)\n",
    "print(\"view:\", view)"
   ]
  },
  {
   "cell_type": "markdown",
   "id": "4b58cf0e",
   "metadata": {},
   "source": [
    "Actually it's the same with `reshape()`"
   ]
  },
  {
   "cell_type": "code",
   "execution_count": 61,
   "id": "e1b9fdcc",
   "metadata": {},
   "outputs": [
    {
     "name": "stdout",
     "output_type": "stream",
     "text": [
      "reshape: tensor([[ 0,  1,  2,  3],\n",
      "        [ 4,  5,  6,  7],\n",
      "        [ 8,  9, 10, 11]])\n",
      "view == reshape: tensor([[True, True, True, True],\n",
      "        [True, True, True, True],\n",
      "        [True, True, True, True]])\n"
     ]
    }
   ],
   "source": [
    "reshape = orig.reshape(3, 4)\n",
    "print(\"reshape:\", reshape)\n",
    "print(\"view == reshape:\", view == reshape)"
   ]
  }
 ],
 "metadata": {
  "kernelspec": {
   "display_name": "base",
   "language": "python",
   "name": "python3"
  },
  "language_info": {
   "codemirror_mode": {
    "name": "ipython",
    "version": 3
   },
   "file_extension": ".py",
   "mimetype": "text/x-python",
   "name": "python",
   "nbconvert_exporter": "python",
   "pygments_lexer": "ipython3",
   "version": "3.11.7"
  }
 },
 "nbformat": 4,
 "nbformat_minor": 5
}
