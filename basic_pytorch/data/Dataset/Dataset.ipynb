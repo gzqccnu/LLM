{
 "cells": [
  {
   "cell_type": "markdown",
   "id": "8ab1571b",
   "metadata": {},
   "source": [
    "# Data"
   ]
  },
  {
   "cell_type": "markdown",
   "id": "3dbd907c",
   "metadata": {},
   "source": [
    "## 1 Dataset"
   ]
  },
  {
   "cell_type": "markdown",
   "id": "af36481a",
   "metadata": {},
   "source": [
    "Here we mainly implement a custom **Dataset** of ourselves.\n",
    "And we must do the following thing:\n",
    "- Inherit `torch.utils.data.Dataset`\n",
    "- Implement `__init__`\n",
    "<br>\n",
    "    This is to instantiaing the Dataset object \n",
    "- Implement `__len__`\n",
    "<br>\n",
    "    returns the number of samples in our dataset\n",
    "- Implement `__getitem__`\n",
    "<br>\n",
    "    loads and returns a sample from the dataset at the given index idx"
   ]
  },
  {
   "cell_type": "markdown",
   "id": "51a59cef",
   "metadata": {},
   "source": [
    "Let's define a class, and implement custom Dataset\n",
    "And here we use the poetry of Borges for example"
   ]
  },
  {
   "cell_type": "code",
   "execution_count": 1,
   "id": "e5d3cc58",
   "metadata": {},
   "outputs": [],
   "source": [
    "import torch\n",
    "from torch.utils.data import Dataset"
   ]
  },
  {
   "cell_type": "code",
   "execution_count": null,
   "id": "6cd7133e",
   "metadata": {},
   "outputs": [],
   "source": [
    "class LLMDatset(Dataset):\n",
    "    \n",
    "    # instantiate function\n",
    "    def __init__(self, text, tokenizer, max_len, stride):\n",
    "        self.input_ids = []\n",
    "        self.target_ids = []\n",
    "\n",
    "        # Tokenize the entire text\n",
    "        token_ids = tokenizer.encode(text)\n",
    "        assert len(token_ids) > max_len, \"Number of tokenized inputs must at %max_len + 1\" % max_len\n",
    "\n",
    "        for i in range(0, len(token_ids) - max_len, stride):\n",
    "            input_chunk = token_ids[i : i + max_len]\n",
    "            target_chunk = token_ids[i + 1 : i + 1 + max_len]\n",
    "            self.input_ids.append(torch.tensor(input_chunk))\n",
    "            self.target_ids.append(torch.tensor(target_chunk))\n",
    "\n",
    "    def __len__(self):\n",
    "        \n",
    "        return len(self.input_ids)\n",
    "    \n",
    "    def __getitem__(self, index):\n",
    "        return self.input_ids[index], self.target_ids[index]\n"
   ]
  }
 ],
 "metadata": {
  "kernelspec": {
   "display_name": "base",
   "language": "python",
   "name": "python3"
  },
  "language_info": {
   "codemirror_mode": {
    "name": "ipython",
    "version": 3
   },
   "file_extension": ".py",
   "mimetype": "text/x-python",
   "name": "python",
   "nbconvert_exporter": "python",
   "pygments_lexer": "ipython3",
   "version": "3.11.7"
  }
 },
 "nbformat": 4,
 "nbformat_minor": 5
}
