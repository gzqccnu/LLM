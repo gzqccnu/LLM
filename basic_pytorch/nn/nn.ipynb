{
 "cells": [
  {
   "cell_type": "markdown",
   "id": "54c79506",
   "metadata": {},
   "source": [
    "# torch.nn"
   ]
  }
 ],
 "metadata": {
  "language_info": {
   "name": "python"
  }
 },
 "nbformat": 4,
 "nbformat_minor": 5
}
