{
 "cells": [
  {
   "cell_type": "markdown",
   "id": "54c79506",
   "metadata": {},
   "source": [
    "# torch.nn"
   ]
  },
  {
   "cell_type": "markdown",
   "id": "a316779a",
   "metadata": {},
   "source": [
    "## 1 Linear"
   ]
  },
  {
   "cell_type": "markdown",
   "id": "96b856dc",
   "metadata": {},
   "source": [
    "## 2 Embedding"
   ]
  },
  {
   "cell_type": "markdown",
   "id": "7c48f1a2",
   "metadata": {},
   "source": [
    "## 3 Dropout"
   ]
  }
 ],
 "metadata": {
  "kernelspec": {
   "display_name": "base",
   "language": "python",
   "name": "python3"
  },
  "language_info": {
   "name": "python",
   "version": "3.11.7"
  }
 },
 "nbformat": 4,
 "nbformat_minor": 5
}
