{
 "cells": [
  {
   "cell_type": "markdown",
   "id": "192e415f",
   "metadata": {},
   "source": [
    "# Multimodal\n",
    "\n",
    "---"
   ]
  }
 ],
 "metadata": {
  "language_info": {
   "name": "python"
  }
 },
 "nbformat": 4,
 "nbformat_minor": 5
}
