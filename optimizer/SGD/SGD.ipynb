{
 "cells": [
  {
   "cell_type": "markdown",
   "id": "948156b2",
   "metadata": {},
   "source": [
    "# SGD\n",
    "\n",
    "---"
   ]
  }
 ],
 "metadata": {
  "language_info": {
   "name": "python"
  }
 },
 "nbformat": 4,
 "nbformat_minor": 5
}
