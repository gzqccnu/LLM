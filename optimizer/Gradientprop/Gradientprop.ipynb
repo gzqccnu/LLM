{
 "cells": [
  {
   "cell_type": "markdown",
   "id": "f38f93cc",
   "metadata": {},
   "source": [
    "# Gradientprop\n",
    "\n",
    "---"
   ]
  }
 ],
 "metadata": {
  "language_info": {
   "name": "python"
  }
 },
 "nbformat": 4,
 "nbformat_minor": 5
}
