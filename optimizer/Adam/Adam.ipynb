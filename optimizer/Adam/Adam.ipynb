{
 "cells": [
  {
   "cell_type": "markdown",
   "id": "eb8c0e50",
   "metadata": {},
   "source": [
    "# Adam\n",
    "\n",
    "---"
   ]
  }
 ],
 "metadata": {
  "language_info": {
   "name": "python"
  }
 },
 "nbformat": 4,
 "nbformat_minor": 5
}
